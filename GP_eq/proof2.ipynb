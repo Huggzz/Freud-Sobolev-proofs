{
 "cells": [
  {
   "cell_type": "code",
   "execution_count": 1,
   "id": "e0605641-686d-443f-9e5d-8b64a3eab52f",
   "metadata": {},
   "outputs": [],
   "source": [
    "using IntervalArithmetic, LinearAlgebra, Serialization"
   ]
  },
  {
   "cell_type": "code",
   "execution_count": 2,
   "id": "8957e628-e6e9-49c3-a740-90a528e67f9d",
   "metadata": {},
   "outputs": [
    {
     "data": {
      "text/plain": [
       "op_norm (generic function with 1 method)"
      ]
     },
     "execution_count": 2,
     "metadata": {},
     "output_type": "execute_result"
    }
   ],
   "source": [
    "setprecision(1024)\n",
    "\n",
    "LinearAlgebra.norm(v::Vector) = sqrt(sum(v.^2))\n",
    "\n",
    "function enlarge(x::Interval{BigFloat})\n",
    "    isguaranteed(x) || error(\"interval is not guaranteed\")\n",
    "    return interval(BigFloat(inf(x), RoundDown), BigFloat(sup(x), RoundUp))\n",
    "end\n",
    "\n",
    "function Base.inv(P::Bidiagonal{Interval{BigFloat}, Vector{Interval{BigFloat}}})\n",
    "    if P.uplo == 'U'\n",
    "        C = -P.ev./P.dv[1:end-1]\n",
    "        invC = UpperTriangular(zeros(eltype(P), size(P)))\n",
    "        for i in 1:size(P)[1]\n",
    "            invC[i,i:end] = cumprod([one(eltype(P)); C[i:end]])\n",
    "        end\n",
    "        return UpperTriangular(invC ./ P.dv')\n",
    "    else\n",
    "        return LowerTriangular(inv(P')')\n",
    "    end\n",
    "end    \n",
    "\n",
    "function Base.:*(D::Diagonal, v::Vector)\n",
    "    return diag(D).*v\n",
    "end\n",
    "\n",
    "function Base.:*(D::Diagonal, A::Matrix)\n",
    "    return diag(D).*A\n",
    "end\n",
    "\n",
    "function Base.:*(A::Matrix, D::Diagonal)\n",
    "    return A.*diag(D)'\n",
    "end\n",
    "\n",
    "# rigorous upper bound of the 2-norm of a matrix\n",
    "function op_norm(A)\n",
    "    if size(A) == (2,2)\n",
    "        Z = sqrt(sum(A.^2) + sqrt(((A[1,2]+A[2,1])^2+(A[1,1]-A[2,2])^2)*((A[1,2]-A[2,1])^2+(A[1,1]+A[2,2])^2)))/sqrt(interval(2))\n",
    "        if isguaranteed(Z)\n",
    "            return interval(sup(Z))\n",
    "        else\n",
    "            return Z\n",
    "        end\n",
    "    else\n",
    "        all(isguaranteed.(A)) || error(\"matrix not guaranteed\")\n",
    "        return sqrt(interval(maximum(sup.(sum(abs.(A), dims = 1))))*interval(maximum(sup.(sum(abs.(A), dims = 2)))))\n",
    "    end\n",
    "end"
   ]
  },
  {
   "cell_type": "code",
   "execution_count": 3,
   "id": "d2cd579e-81c8-4299-bfb5-05eed396203e",
   "metadata": {},
   "outputs": [],
   "source": [
    "ω = interval(8)\n",
    "n = 2500\n",
    "setprecision(8192)\n",
    "b₁ = deserialize(\"b1_k4\")\n",
    "setprecision(precision(mid.(b₁)))\n",
    "b₀ = interval(BigFloat, 0.0)\n",
    "b = zeros(Interval{BigFloat},n+3)\n",
    "b[1:2] = [b₀, b₁]\n",
    "for k = 2:n+2\n",
    "    b[k+1] = interval(4)+(interval(BigFloat, k-1)/b[k])-b[k]-b[k-1]\n",
    "end\n",
    "setprecision(1024)\n",
    "b = b[2:end]\n",
    "a = enlarge.(sqrt.(b))\n",
    "b = enlarge.(b);"
   ]
  },
  {
   "cell_type": "code",
   "execution_count": 4,
   "id": "f259ff9f-a8e4-4830-8af6-0bec1354cb49",
   "metadata": {},
   "outputs": [],
   "source": [
    "α = interval.(BigFloat, collect(2:2:n))./a[2:2:n]\n",
    "β = a[2:2:n].*a[3:2:n+1].*a[4:2:n+2]\n",
    "P̄ = Bidiagonal([interval(big(1)); α], [interval(big(0)); β[1:end-1]] , :U)\n",
    "P̄⁻¹ = inv(P̄);\n",
    "Π₀ = Diagonal([interval(1); zeros(Interval{Float64}, n÷2)])\n",
    "λ = α.^2 + β.^2\n",
    "μ = α[2:end].*β[1:end-1];"
   ]
  },
  {
   "cell_type": "code",
   "execution_count": 5,
   "id": "c8da1158-3881-4728-b16b-36618c1f5da5",
   "metadata": {},
   "outputs": [
    {
     "data": {
      "text/plain": [
       "[103.5, 103.501]₁₀₂₄_com"
      ]
     },
     "execution_count": 5,
     "metadata": {},
     "output_type": "execute_result"
    }
   ],
   "source": [
    "C_α = deserialize(\"C_alpha\")\n",
    "θ = deserialize(\"theta\");\n",
    "Cₚ₀ = deserialize(\"CP0\");\n",
    "c₀ = deserialize(\"c0\");\n",
    "C₁₂ = β[end]*norm(P̄⁻¹[:,end])/C_α/sqrt(interval(1)-θ^2)\n",
    "C₂₂ = interval(1)/C_α/(interval(1)-θ)\n",
    "Cd = interval(1)/C_α/sqrt(interval(1)-θ^2)\n",
    "C = sqrt(C₁₂^2+C₂₂^2);\n",
    "Z = enlarge(deserialize(\"GP_Z\"))"
   ]
  },
  {
   "cell_type": "code",
   "execution_count": 6,
   "id": "8726fb02-c413-41f4-babd-b9663aadaccd",
   "metadata": {},
   "outputs": [],
   "source": [
    "V4p = deserialize(\"GP_V4\");\n",
    "V6p = deserialize(\"GP_V6\");\n",
    "fV4p = interval.(Float64, deserialize(\"GP_V4\"));\n",
    "fV6p = interval.(Float64, deserialize(\"GP_V6\"));\n",
    "V4q = fV4p*interval.(Float64, P̄⁻¹);\n",
    "V6q = fV6p*interval.(Float64, P̄⁻¹);"
   ]
  },
  {
   "cell_type": "code",
   "execution_count": 7,
   "id": "b50df642-51e9-4dd8-a3b0-15fd68f82946",
   "metadata": {},
   "outputs": [],
   "source": [
    "ūq = interval.(deserialize(\"ubar2\"));\n",
    "ūp = P̄⁻¹*ūq;"
   ]
  },
  {
   "cell_type": "code",
   "execution_count": 8,
   "id": "feabdff9-447d-4d86-9794-8f07563fa751",
   "metadata": {},
   "outputs": [],
   "source": [
    "Πₙdfū = ω*interval.(Float64,P̄⁻¹) + Π₀ - interval(3)*(fV4p'*(((fV4p*interval.(Float64,ūp)).^2).*V4q));"
   ]
  },
  {
   "cell_type": "code",
   "execution_count": 9,
   "id": "654c67c1-2aff-4514-b4e5-b8ea97d656ed",
   "metadata": {},
   "outputs": [],
   "source": [
    "Πₙfū = ω*ūp+Π₀*ūq-V4p'*((V4p*ūp).^3);"
   ]
  },
  {
   "cell_type": "code",
   "execution_count": 10,
   "id": "4ad113fa-a786-4d27-a7f0-be437bc3fc54",
   "metadata": {},
   "outputs": [],
   "source": [
    "ΠₙFū = ūq - P̄⁻¹'*Πₙfū;"
   ]
  },
  {
   "cell_type": "code",
   "execution_count": 11,
   "id": "a665f955-34b3-4c14-946a-d6793d23eef3",
   "metadata": {},
   "outputs": [],
   "source": [
    "DFū = interval.(I(n÷2+1)) - interval.(Float64,P̄⁻¹)'*Πₙdfū;"
   ]
  },
  {
   "cell_type": "code",
   "execution_count": 12,
   "id": "87583a22-d85b-4135-a74f-5bc52be50c29",
   "metadata": {},
   "outputs": [],
   "source": [
    "Aₙ = interval.(inv(Float64.(mid.(DFū))));"
   ]
  },
  {
   "cell_type": "code",
   "execution_count": 13,
   "id": "62cc070a-fe60-4cab-ad36-ab25d89876e6",
   "metadata": {},
   "outputs": [
    {
     "data": {
      "text/plain": [
       "[7.2352e-12, 7.23521e-12]_com"
      ]
     },
     "execution_count": 13,
     "metadata": {},
     "output_type": "execute_result"
    }
   ],
   "source": [
    "Z¹¹ = op_norm(interval.(I(n÷2+1)) - Aₙ * interval.(Float64, DFū))"
   ]
  },
  {
   "cell_type": "code",
   "execution_count": 14,
   "id": "396c90a4-a8e9-4a22-b86f-a5a048ee23b4",
   "metadata": {},
   "outputs": [
    {
     "data": {
      "text/plain": [
       "[2.67869e-142, 2.6787e-142]₁₀₂₄_com"
      ]
     },
     "execution_count": 14,
     "metadata": {},
     "output_type": "execute_result"
    }
   ],
   "source": [
    "Y = sqrt(norm(Aₙ*ΠₙFū)^2 + (β[end]*Cd*abs(P̄⁻¹[:,end]'*Πₙfū)+C₂₂*sqrt(sum((V6p*ūp).^6) - sum((V4p'*((V4p*ūp).^3)).^2)))^2/interval(n)^interval(3//2))"
   ]
  },
  {
   "cell_type": "code",
   "execution_count": 15,
   "id": "43637aa1-a4a9-4eb2-a93d-8b561797c0ec",
   "metadata": {},
   "outputs": [],
   "source": [
    "wp = vec(sqrt.(abs.(sum((((fV6p*interval.(Float64,ūp)).^2).*fV6p).^2, dims=1) - sum((fV4p'*(((fV4p*interval.(Float64,ūp)).^2).*fV4p)).^2, dims = 1))));"
   ]
  },
  {
   "cell_type": "code",
   "execution_count": 16,
   "id": "bb4c0c71-e8f1-40de-8a72-fe313938435f",
   "metadata": {},
   "outputs": [],
   "source": [
    "wq = vec(sqrt.(abs.(sum((((fV6p*interval.(Float64,ūp)).^2).*V6q).^2, dims=1) - sum((fV4p'*(((fV4p*interval.(Float64,ūp)).^2).*V4q)).^2, dims = 1))));"
   ]
  },
  {
   "cell_type": "code",
   "execution_count": 17,
   "id": "d32f0c0f-afc7-40be-b316-a10d05f62fe3",
   "metadata": {},
   "outputs": [
    {
     "data": {
      "text/plain": [
       "[1.91831e-05, 1.91833e-05]₁₀₂₄_com"
      ]
     },
     "execution_count": 17,
     "metadata": {},
     "output_type": "execute_result"
    }
   ],
   "source": [
    "Z²¹ = (β[end]*Cd*norm(vec(P̄⁻¹[:,end]'*Πₙdfū))+interval(3)*C₂₂*norm(wq))/interval(n)^interval(3//4)"
   ]
  },
  {
   "cell_type": "code",
   "execution_count": 18,
   "id": "97b5a4f1-5fea-47ce-a4e1-10f09e390b0e",
   "metadata": {},
   "outputs": [
    {
     "data": {
      "text/plain": [
       "[1.81176e-05, 1.81181e-05]₁₀₂₄_com"
      ]
     },
     "execution_count": 18,
     "metadata": {},
     "output_type": "execute_result"
    }
   ],
   "source": [
    "Z¹² = (β[end]*Cd*norm(Aₙ*(P̄⁻¹'*Πₙdfū[:,end]))+interval(3)*C₂₂*norm(Aₙ*(P̄⁻¹'*wp)))/interval(n)^interval(3//4)"
   ]
  },
  {
   "cell_type": "code",
   "execution_count": 19,
   "id": "12bdedcd-0911-4ff1-a2a9-db9c362d1600",
   "metadata": {},
   "outputs": [
    {
     "data": {
      "text/plain": [
       "[2.31465, 2.31466]₁₀₂₄_com"
      ]
     },
     "execution_count": 19,
     "metadata": {},
     "output_type": "execute_result"
    }
   ],
   "source": [
    "supφ̄ = sqrt(Z*(interval(1)+c₀))*sqrt(norm(ūq))*sqrt(norm(ūp))"
   ]
  },
  {
   "cell_type": "code",
   "execution_count": 20,
   "id": "98050563-ff5b-49f1-875e-242a431d207d",
   "metadata": {},
   "outputs": [
    {
     "data": {
      "text/plain": [
       "[0.000288058, 0.00028806]₁₀₂₄_com"
      ]
     },
     "execution_count": 20,
     "metadata": {},
     "output_type": "execute_result"
    }
   ],
   "source": [
    "Z²² = C^2*(interval(3)*supφ̄^2+abs(ω))/interval(n)^interval(3//2)"
   ]
  },
  {
   "cell_type": "code",
   "execution_count": 21,
   "id": "ebbc2cae-2b4d-4523-ae27-bea8c881da0d",
   "metadata": {},
   "outputs": [
    {
     "data": {
      "text/plain": [
       "[0.000289262, 0.000289263]₁₀₂₄_com"
      ]
     },
     "execution_count": 21,
     "metadata": {},
     "output_type": "execute_result"
    }
   ],
   "source": [
    "Z₁ = op_norm([Z¹¹ Z¹²;\n",
    "        Z²¹ Z²²])"
   ]
  },
  {
   "cell_type": "code",
   "execution_count": 22,
   "id": "34061b32-1741-47cd-9fb1-5133d0c3a5b9",
   "metadata": {},
   "outputs": [
    {
     "data": {
      "text/plain": [
       "[84.5426, 84.5427]_com"
      ]
     },
     "execution_count": 22,
     "metadata": {},
     "output_type": "execute_result"
    }
   ],
   "source": [
    "norm_A = max(op_norm(Aₙ), interval(1))"
   ]
  },
  {
   "cell_type": "code",
   "execution_count": 23,
   "id": "d3545476-56b0-4f3b-acab-6a92f5086094",
   "metadata": {},
   "outputs": [
    {
     "data": {
      "text/plain": [
       "[16920.5, 16920.6]₁₀₂₄_com"
      ]
     },
     "execution_count": 23,
     "metadata": {},
     "output_type": "execute_result"
    }
   ],
   "source": [
    "Z₂ = interval(6)*Z*(interval(1)+c₀)*norm_A*max(interval(1), Cₚ₀)^interval(3//2)*norm(ūp)"
   ]
  },
  {
   "cell_type": "code",
   "execution_count": 24,
   "id": "a8492278-ae6a-4c82-9dfa-e49bb111c819",
   "metadata": {},
   "outputs": [
    {
     "data": {
      "text/plain": [
       "[296317.0, 296318.0]₁₀₂₄_com"
      ]
     },
     "execution_count": 24,
     "metadata": {},
     "output_type": "execute_result"
    }
   ],
   "source": [
    "Z₃ = interval(6)*Z*(interval(1)+c₀)*norm_A*max(interval(1), Cₚ₀)^interval(3//2)"
   ]
  },
  {
   "cell_type": "code",
   "execution_count": 25,
   "id": "50c891a2-3a8b-44c2-b388-8c1a86fd4117",
   "metadata": {},
   "outputs": [
    {
     "data": {
      "text/plain": [
       "P (generic function with 1 method)"
      ]
     },
     "execution_count": 25,
     "metadata": {},
     "output_type": "execute_result"
    }
   ],
   "source": [
    "P(δ) = Z₃/interval(6)*δ^3 + Z₂/interval(2)*δ^2 - (interval(1) - Z₁)*δ + Y"
   ]
  },
  {
   "cell_type": "code",
   "execution_count": 26,
   "id": "7bf4073d-147e-483e-b538-e2deb3fcc473",
   "metadata": {},
   "outputs": [
    {
     "name": "stdout",
     "output_type": "stream",
     "text": [
      "δ̲ validated\n"
     ]
    }
   ],
   "source": [
    "δ̲ = Y/(interval(1)-Z₁)*(interval(1)+interval(BigFloat,2)^(-48))\n",
    "if sup(P(δ̲))<0\n",
    "    println(\"δ̲ validated\")\n",
    "end"
   ]
  },
  {
   "cell_type": "code",
   "execution_count": 27,
   "id": "0d290cec-bd92-4b5c-93cb-5150c16a84e7",
   "metadata": {},
   "outputs": [
    {
     "data": {
      "text/plain": [
       "[2.67946e-142, 2.67947e-142]₁₀₂₄_com"
      ]
     },
     "execution_count": 27,
     "metadata": {},
     "output_type": "execute_result"
    }
   ],
   "source": [
    "δ̲"
   ]
  },
  {
   "cell_type": "code",
   "execution_count": 28,
   "id": "5bf79a22-a60e-4df8-930d-9f59849ae351",
   "metadata": {},
   "outputs": [
    {
     "data": {
      "text/plain": [
       "[8.16138e-141, 8.16139e-141]₁₀₂₄_com"
      ]
     },
     "execution_count": 28,
     "metadata": {},
     "output_type": "execute_result"
    }
   ],
   "source": [
    "η = sqrt(Z)*(max(interval(1), Cₚ₀)+(interval(1)+c₀)^2/interval(4))^interval(1//2)*δ̲"
   ]
  },
  {
   "cell_type": "code",
   "execution_count": null,
   "id": "0f02c216-2ca9-4f59-9260-dabefd82a523",
   "metadata": {},
   "outputs": [],
   "source": []
  }
 ],
 "metadata": {
  "kernelspec": {
   "display_name": "Julia 1.11.2",
   "language": "julia",
   "name": "julia-1.11"
  },
  "language_info": {
   "file_extension": ".jl",
   "mimetype": "application/julia",
   "name": "julia",
   "version": "1.11.2"
  }
 },
 "nbformat": 4,
 "nbformat_minor": 5
}

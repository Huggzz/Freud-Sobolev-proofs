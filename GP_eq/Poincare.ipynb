{
 "cells": [
  {
   "cell_type": "code",
   "execution_count": 1,
   "id": "0fe60a07-4636-4ea6-8aa2-a0006f283318",
   "metadata": {},
   "outputs": [],
   "source": [
    "using IntervalArithmetic, LinearAlgebra, Serialization"
   ]
  },
  {
   "cell_type": "code",
   "execution_count": 2,
   "id": "713f3391-a765-49e1-baa5-a7b31526e353",
   "metadata": {},
   "outputs": [
    {
     "data": {
      "text/plain": [
       "op_norm (generic function with 1 method)"
      ]
     },
     "execution_count": 2,
     "metadata": {},
     "output_type": "execute_result"
    }
   ],
   "source": [
    "setprecision(1024)\n",
    "\n",
    "LinearAlgebra.norm(v::Vector) = sqrt(sum(v.^2))\n",
    "\n",
    "function enlarge(x::Interval{BigFloat})\n",
    "    isguaranteed(x) || error(\"interval is not guaranteed\")\n",
    "    return interval(BigFloat(inf(x), RoundDown), BigFloat(sup(x), RoundUp))\n",
    "end\n",
    "\n",
    "function Base.inv(P::Bidiagonal{Interval{Float64}, Vector{Interval{Float64}}})\n",
    "    if P.uplo == 'U'\n",
    "        C = -P.ev./P.dv[1:end-1]\n",
    "        invC = UpperTriangular(zeros(eltype(P), size(P)))\n",
    "        for i in 1:size(P)[1]\n",
    "            invC[i,i:end] = cumprod([one(eltype(P)); C[i:end]])\n",
    "        end\n",
    "        return UpperTriangular(invC ./ P.dv')\n",
    "    else\n",
    "        return LowerTriangular(inv(P')')\n",
    "    end\n",
    "end    \n",
    "\n",
    "function Base.:*(D::Diagonal, v::Vector)\n",
    "    return diag(D).*v\n",
    "end\n",
    "\n",
    "function Base.:*(D::Diagonal, A::Matrix)\n",
    "    return diag(D).*A\n",
    "end\n",
    "\n",
    "function Base.:*(A::Matrix, D::Diagonal)\n",
    "    return A.*diag(D)'\n",
    "end\n",
    "\n",
    "# rigorous upper bound of the 2-norm of a matrix\n",
    "function op_norm(A)\n",
    "    if size(A) == (2,2)\n",
    "        Z = sqrt(sum(A.^2) + sqrt(((A[1,2]+A[2,1])^2+(A[1,1]-A[2,2])^2)*((A[1,2]-A[2,1])^2+(A[1,1]+A[2,2])^2)))/sqrt(interval(2))\n",
    "        if isguaranteed(Z)\n",
    "            return interval(sup(Z))\n",
    "        else\n",
    "            return Z\n",
    "        end\n",
    "    else\n",
    "        B = A'A\n",
    "        Λ̄, V̄ = eigen(Symmetric(mid.(B)))\n",
    "        Λ = inv(interval.(V̄))*B*interval.(V̄)\n",
    "        all(isguaranteed.(Λ)) || error(\"matrix not guaranteed\")\n",
    "        σ̄ = sup(sqrt(maximum(abs.(diag(Λ) + interval(-1,1)*[sum(abs.(Λ[i,1:i-1]))+sum(abs.(Λ[i,i+1:end])) for i=1:size(B)[1]]))))\n",
    "        σ̲ = inf(norm(A⁻¹*interval.(V̄)[:,end])/norm(interval.(V̄)[:,end]))\n",
    "        return interval(σ̲, σ̄)\n",
    "    end\n",
    "end"
   ]
  },
  {
   "cell_type": "code",
   "execution_count": 3,
   "id": "ddb11e29-416d-475e-9291-abf30722fc26",
   "metadata": {},
   "outputs": [],
   "source": [
    "n = 3500\n",
    "setprecision(8192)\n",
    "b₁ = deserialize(\"b1_k4\")\n",
    "C_α = deserialize(\"C_alpha\")\n",
    "θ = deserialize(\"theta\")\n",
    "setprecision(precision(mid.(b₁)))\n",
    "b₀ = interval(BigFloat, 0.0)\n",
    "b = zeros(Interval{BigFloat},n+4)\n",
    "b[1:2] = [b₀, b₁]\n",
    "for k = 2:n+3\n",
    "    b[k+1] = interval(4)+(interval(BigFloat, k-1)/b[k])-b[k]-b[k-1]\n",
    "end\n",
    "setprecision(1024)\n",
    "b = b[2:end]\n",
    "a = enlarge.(sqrt.(b))\n",
    "b = enlarge.(b);"
   ]
  },
  {
   "cell_type": "code",
   "execution_count": 4,
   "id": "36b2131a-81e2-46b8-bb8a-f3e347a704ab",
   "metadata": {},
   "outputs": [],
   "source": [
    "α = interval.(Float64, interval.(collect(1:2:n+1))./a[1:2:n+1])\n",
    "β = interval.(Float64, a[1:2:n+1].*a[2:2:n+2].*a[3:2:n+3])\n",
    "A = Bidiagonal(α,  β[1:end-1], :U)\n",
    "A⁻¹ = Matrix(interval.(Float64, inv(A)));"
   ]
  },
  {
   "cell_type": "code",
   "execution_count": 5,
   "id": "08489060-0210-4ea5-88aa-5692a12d3b58",
   "metadata": {},
   "outputs": [],
   "source": [
    "C₁₂ = interval(1)/(C_α*sqrt(interval(1)-θ^2))*β[end]*norm(A⁻¹[:,end])\n",
    "C₂₂ = interval(1)/(C_α*(interval(1)-θ));"
   ]
  },
  {
   "cell_type": "code",
   "execution_count": 6,
   "id": "c8cfb39f-b40d-4026-b68b-6f8740bab695",
   "metadata": {},
   "outputs": [],
   "source": [
    "C̄ₚ₁ = op_norm(A⁻¹)^2;"
   ]
  },
  {
   "cell_type": "code",
   "execution_count": 7,
   "id": "8a5d7c80-e6e8-4d4d-95eb-8c05b2322af9",
   "metadata": {},
   "outputs": [],
   "source": [
    "supCₚ₁ = op_norm([interval(sqrt(sup(C̄ₚ₁))) C₁₂/interval(n+1)^interval(3//4);\n",
    "            interval(0) C₂₂/interval(n+1)^interval(3//4)])^2;"
   ]
  },
  {
   "cell_type": "code",
   "execution_count": 8,
   "id": "54d75525-03eb-458a-bd2c-23d36142055c",
   "metadata": {},
   "outputs": [],
   "source": [
    "C₁ = norm([C₁₂, C₂₂]);"
   ]
  },
  {
   "cell_type": "code",
   "execution_count": 9,
   "id": "a30b7fce-2f2e-4048-8791-2be4e04657ef",
   "metadata": {},
   "outputs": [],
   "source": [
    "Cₚ₁ = interval(inf(C̄ₚ₁), sup(supCₚ₁));"
   ]
  },
  {
   "cell_type": "code",
   "execution_count": 10,
   "id": "6cc0450b-f243-473c-8e61-be65b88194d2",
   "metadata": {},
   "outputs": [],
   "source": [
    "α = interval.(Float64, interval.(collect(2:2:n))./a[2:2:n])\n",
    "β = interval.(Float64, a[2:2:n].*a[3:2:n+1].*a[4:2:n+2])\n",
    "A = Bidiagonal(α,  β[1:end-1], :U)\n",
    "A⁻¹ = Matrix(interval.(Float64, inv(A)));"
   ]
  },
  {
   "cell_type": "code",
   "execution_count": 11,
   "id": "c183f698-7d87-4fca-88e6-3eb680247456",
   "metadata": {},
   "outputs": [],
   "source": [
    "C₁₂ = interval(1)/(C_α*sqrt(interval(1)-θ^2))*β[end]*norm(A⁻¹[:,end])\n",
    "C₂₂ = interval(1)/(C_α*(interval(1)-θ));"
   ]
  },
  {
   "cell_type": "code",
   "execution_count": 12,
   "id": "23d98a6b-b72f-4b6f-82ad-13c46bf9e793",
   "metadata": {},
   "outputs": [],
   "source": [
    "C̄ₚ₀ = op_norm(A⁻¹)^2;"
   ]
  },
  {
   "cell_type": "code",
   "execution_count": 13,
   "id": "f23495b2-be21-401e-b8f0-9d7cbc7b1057",
   "metadata": {},
   "outputs": [],
   "source": [
    "supCₚ₀ = op_norm([interval(sqrt(sup(C̄ₚ₀))) C₁₂/interval(n)^interval(3//4);\n",
    "            interval(0) C₂₂/interval(n)^interval(3//4)])^2;"
   ]
  },
  {
   "cell_type": "code",
   "execution_count": 14,
   "id": "e5d2672e-59d1-4cf6-8907-a1a48dac9c01",
   "metadata": {},
   "outputs": [],
   "source": [
    "C₀ = norm([C₁₂, C₂₂]);"
   ]
  },
  {
   "cell_type": "code",
   "execution_count": 15,
   "id": "bf254bb5-db64-4c88-b579-be06c88670c6",
   "metadata": {},
   "outputs": [],
   "source": [
    "Cₚ₀ = max(interval(inf(C̄ₚ₀), sup(supCₚ₀)));"
   ]
  },
  {
   "cell_type": "code",
   "execution_count": 16,
   "id": "ee9aa7f5-cd2e-49bf-a62a-11c0ebc0a2ab",
   "metadata": {},
   "outputs": [
    {
     "data": {
      "text/plain": [
       "[1.22238, 1.2224]_com"
      ]
     },
     "execution_count": 16,
     "metadata": {},
     "output_type": "execute_result"
    }
   ],
   "source": [
    "C = max(C₁,C₀)"
   ]
  },
  {
   "cell_type": "code",
   "execution_count": 17,
   "id": "677514c9-42bd-48d6-a9f0-a97f1f2a8714",
   "metadata": {},
   "outputs": [
    {
     "data": {
      "text/plain": [
       "[33.58, 33.5801]_com"
      ]
     },
     "execution_count": 17,
     "metadata": {},
     "output_type": "execute_result"
    }
   ],
   "source": [
    "Cₚ = max(Cₚ₁, Cₚ₀)"
   ]
  },
  {
   "cell_type": "code",
   "execution_count": 21,
   "id": "6d66b35d-7d9f-42d3-8d71-7fe23a56df58",
   "metadata": {},
   "outputs": [
    {
     "data": {
      "text/plain": [
       "2.25370360595889e-7"
      ]
     },
     "execution_count": 21,
     "metadata": {},
     "output_type": "execute_result"
    }
   ],
   "source": [
    "diam(Cₚ)/2"
   ]
  },
  {
   "cell_type": "code",
   "execution_count": 25,
   "id": "f6a8f6a2-0946-49dc-b2fb-93c68b18d96b",
   "metadata": {},
   "outputs": [],
   "source": [
    "serialize(\"CP1\", Cₚ₁)\n",
    "serialize(\"CP0\", Cₚ₀)\n",
    "serialize(\"CP\", Cₚ)"
   ]
  },
  {
   "cell_type": "code",
   "execution_count": null,
   "id": "0333c036-ee92-4a7b-9700-652e311e275e",
   "metadata": {},
   "outputs": [],
   "source": []
  }
 ],
 "metadata": {
  "kernelspec": {
   "display_name": "Julia 1.11.2",
   "language": "julia",
   "name": "julia-1.11"
  },
  "language_info": {
   "file_extension": ".jl",
   "mimetype": "application/julia",
   "name": "julia",
   "version": "1.11.2"
  }
 },
 "nbformat": 4,
 "nbformat_minor": 5
}

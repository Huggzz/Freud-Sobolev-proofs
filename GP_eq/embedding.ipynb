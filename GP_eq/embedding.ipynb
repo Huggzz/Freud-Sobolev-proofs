{
 "cells": [
  {
   "cell_type": "code",
   "execution_count": null,
   "id": "3645040e-f558-4dc4-af37-03d279448ee9",
   "metadata": {},
   "outputs": [],
   "source": [
    "using IntervalArithmetic, LinearAlgebra, Serialization"
   ]
  },
  {
   "cell_type": "code",
   "execution_count": null,
   "id": "89f90d27-126f-4838-824d-5561a00a3f36",
   "metadata": {},
   "outputs": [],
   "source": [
    "setprecision(1024)\n",
    "\n",
    "LinearAlgebra.norm(v::Vector) = sqrt(sum(v.^2))\n",
    "\n",
    "function enlarge(x::Interval{BigFloat})\n",
    "    isguaranteed(x) || error(\"interval is not guaranteed\")\n",
    "    return interval(BigFloat(inf(x), RoundDown), BigFloat(sup(x), RoundUp))\n",
    "end\n",
    "\n",
    "function Base.inv(P::Bidiagonal{Interval{Float64}, Vector{Interval{Float64}}})\n",
    "    if P.uplo == 'U'\n",
    "        C = -P.ev./P.dv[1:end-1]\n",
    "        invC = UpperTriangular(zeros(eltype(P), size(P)))\n",
    "        for i in 1:size(P)[1]\n",
    "            invC[i,i:end] = cumprod([one(eltype(P)); C[i:end]])\n",
    "        end\n",
    "        return UpperTriangular(invC ./ P.dv')\n",
    "    else\n",
    "        return LowerTriangular(inv(P')')\n",
    "    end\n",
    "end    \n",
    "\n",
    "function Base.:*(D::Diagonal, v::Vector)\n",
    "    return diag(D).*v\n",
    "end\n",
    "\n",
    "function Base.:*(D::Diagonal, A::Matrix)\n",
    "    return diag(D).*A\n",
    "end\n",
    "\n",
    "function Base.:*(A::Matrix, D::Diagonal)\n",
    "    return A.*diag(D)'\n",
    "end\n",
    "\n",
    "# rigorous upper bound of the 2-norm of a matrix\n",
    "function op_norm(A)\n",
    "    if size(A) == (2,2)\n",
    "        Z = sqrt(sum(A.^2) + sqrt(((A[1,2]+A[2,1])^2+(A[1,1]-A[2,2])^2)*((A[1,2]-A[2,1])^2+(A[1,1]+A[2,2])^2)))/sqrt(interval(2))\n",
    "        if isguaranteed(Z)\n",
    "            return interval(sup(Z))\n",
    "        else\n",
    "            return Z\n",
    "        end\n",
    "    else\n",
    "        B = A'A\n",
    "        Λ̄, V̄ = eigen(mid.(B))\n",
    "        Λ = inv(interval.(V̄))*B*interval.(V̄)\n",
    "        all(isguaranteed.(Λ)) || error(\"matrix not guaranteed\")\n",
    "        return sqrt(sqrt(interval(maximum(sup.(sum(abs.(Λ), dims = 1))))*interval(maximum(sup.(sum(abs.(Λ), dims = 2))))))\n",
    "    end\n",
    "end"
   ]
  },
  {
   "cell_type": "code",
   "execution_count": null,
   "id": "d65b99e8-a388-40a2-990f-66128d4574e6",
   "metadata": {},
   "outputs": [],
   "source": [
    "n = 3000\n",
    "setprecision(8192)\n",
    "b₁ = deserialize(\"b1_k4\")\n",
    "setprecision(precision(mid.(b₁)))\n",
    "b₀ = interval(BigFloat, 0.0)\n",
    "b = zeros(Interval{BigFloat},n+6)\n",
    "b[1:2] = [b₀, b₁]\n",
    "for k = 2:n+4\n",
    "    b[k+1] = interval(4)+(interval(BigFloat, k-1)/b[k])-b[k]-b[k-1]\n",
    "end\n",
    "setprecision(1024)\n",
    "b = b[2:end]\n",
    "a = enlarge.(sqrt.(b))\n",
    "b = enlarge.(b);"
   ]
  },
  {
   "cell_type": "code",
   "execution_count": null,
   "id": "456c1eea-84ca-45e4-9540-5579e903758b",
   "metadata": {},
   "outputs": [],
   "source": [
    "c⁺ = deserialize(\"c_plus\")\n",
    "c⁻ = deserialize(\"c_minus\")\n",
    "C_α = deserialize(\"C_alpha\")\n",
    "θ = deserialize(\"theta\")\n",
    "Cd = interval(1)/C_α/sqrt(interval(1)-θ^2);"
   ]
  },
  {
   "cell_type": "code",
   "execution_count": null,
   "id": "80b5faa1-94c1-4cc3-8dc6-0197ced02609",
   "metadata": {},
   "outputs": [],
   "source": [
    "α = interval.(Float64, interval.(collect(2:2:n+2))./a[2:2:n+2])\n",
    "β = interval.(Float64, a[2:2:n+2].*a[3:2:n+3].*a[4:2:n+4])\n",
    "P̄ = Bidiagonal([interval(1); α[1:end-1]],  [interval(0); β[1:end-2]], :U)\n",
    "P̄⁻¹ = Matrix(interval.(Float64, inv(P̄)))\n",
    "α = interval.(Float64, interval.(collect(1:2:n+2))./a[1:2:n+1])\n",
    "β = interval.(Float64, a[1:2:n+2].*a[2:2:n+2].*a[3:2:n+3])\n",
    "A = α.*P̄⁻¹\n",
    "B = β.*P̄⁻¹;"
   ]
  },
  {
   "cell_type": "code",
   "execution_count": null,
   "id": "0529ce8d-88ac-4cfc-b47a-a95829567135",
   "metadata": {},
   "outputs": [],
   "source": [
    "c_α = op_norm([op_norm(A) β[end-1]*norm(A[:,end])*Cd/interval(n)^interval(3//4) ;\n",
    "        interval(0) sqrt(c⁺/c⁻)/(interval(1)-θ)*interval((n+3)//(n+2))^interval(3//4)])"
   ]
  },
  {
   "cell_type": "code",
   "execution_count": null,
   "id": "49cbff82-957c-4bd1-a3f4-05a8e7ceace8",
   "metadata": {},
   "outputs": [],
   "source": [
    "c_β = op_norm([op_norm(B) β[end-1]*norm(B[:,end])*Cd/interval(n)^interval(3//4) ;\n",
    "        interval(0) c⁺^2/(interval(1)-θ)*interval((n+3)//(n+2))^interval(3//4)/interval(3)])"
   ]
  },
  {
   "cell_type": "code",
   "execution_count": null,
   "id": "bbd0bf78-8c99-4a49-8adf-a80f664008c3",
   "metadata": {},
   "outputs": [],
   "source": [
    "c₀ = c_α + c_β"
   ]
  },
  {
   "cell_type": "code",
   "execution_count": null,
   "id": "2fcf6083-79ed-4edc-9d93-af73122dd471",
   "metadata": {},
   "outputs": [],
   "source": [
    "α = interval.(Float64, interval.(collect(1:2:n+3))./a[1:2:n+3])\n",
    "β = interval.(Float64, a[1:2:n+3].*a[2:2:n+4].*a[3:2:n+5])\n",
    "P̄ = Bidiagonal(α[1:end-1],  β[1:end-2], :U)\n",
    "P̄⁻¹ = Matrix(interval.(Float64, inv(P̄)))\n",
    "α = interval.(Float64, interval.(collect(2:2:n+2))./a[2:2:n+2])\n",
    "β = interval.(Float64, a[2:2:n+2].*a[3:2:n+3].*a[4:2:n+4])\n",
    "A = α.*P̄⁻¹\n",
    "B = β.*P̄⁻¹;"
   ]
  },
  {
   "cell_type": "code",
   "execution_count": null,
   "id": "31b75bba-94d8-47b8-8843-bb1c174e8995",
   "metadata": {},
   "outputs": [],
   "source": [
    "c_α = op_norm([op_norm(A) β[end-1]*norm(A[:,end])*Cd/interval(n+1)^interval(3//4) ;\n",
    "        interval(0) sqrt(c⁺/c⁻)/(interval(1)-θ)*interval((n+4)//(n+3))^interval(3//4)])"
   ]
  },
  {
   "cell_type": "code",
   "execution_count": null,
   "id": "a8418708-08fb-4ef8-a124-80aa170c6106",
   "metadata": {},
   "outputs": [],
   "source": [
    "c_β = op_norm([op_norm(B) β[end-1]*norm(B[:,end])*Cd/interval(n+1)^interval(3//4) ;\n",
    "        interval(0) c⁺^2/(interval(1)-θ)*interval((n+4)//(n+3))^interval(3//4)/interval(3)])"
   ]
  },
  {
   "cell_type": "code",
   "execution_count": null,
   "id": "a2a4d697-5752-462c-b3a8-957b05eeb4f1",
   "metadata": {},
   "outputs": [],
   "source": [
    "c₁ = c_α + c_β"
   ]
  },
  {
   "cell_type": "code",
   "execution_count": null,
   "id": "e2eaabb4-17b1-413b-b63d-bdd17faecc33",
   "metadata": {},
   "outputs": [],
   "source": [
    "c = max(c₀, c₁)"
   ]
  },
  {
   "cell_type": "code",
   "execution_count": null,
   "id": "9a1d2fee-ce1e-4865-891e-35d4fd767cbb",
   "metadata": {},
   "outputs": [],
   "source": [
    "serialize(\"c0\", c₀)\n",
    "serialize(\"c1\", c₁)\n",
    "serialize(\"small_c\", c)"
   ]
  },
  {
   "cell_type": "code",
   "execution_count": null,
   "id": "bca0d808-478f-4996-8f96-77f7ad6d31cd",
   "metadata": {},
   "outputs": [],
   "source": []
  }
 ],
 "metadata": {
  "kernelspec": {
   "display_name": "Julia 1.11.3",
   "language": "julia",
   "name": "julia-1.11"
  },
  "language_info": {
   "file_extension": ".jl",
   "mimetype": "application/julia",
   "name": "julia",
   "version": "1.11.3"
  }
 },
 "nbformat": 4,
 "nbformat_minor": 5
}
